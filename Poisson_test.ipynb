{
 "cells": [
  {
   "cell_type": "code",
   "execution_count": 1,
   "metadata": {
    "collapsed": true
   },
   "outputs": [],
   "source": [
    "import pandas as pd"
   ]
  },
  {
   "cell_type": "code",
   "execution_count": 2,
   "metadata": {
    "collapsed": false
   },
   "outputs": [
    {
     "name": "stderr",
     "output_type": "stream",
     "text": [
      "/home/jmckenzie/anaconda3/lib/python3.6/site-packages/IPython/core/interactiveshell.py:2717: DtypeWarning: Columns (19,20,21,22) have mixed types. Specify dtype option on import or set low_memory=False.\n",
      "  interactivity=interactivity, compiler=compiler, result=result)\n"
     ]
    }
   ],
   "source": [
    "data = pd.read_csv('test.csv', sep='|')"
   ]
  },
  {
   "cell_type": "code",
   "execution_count": 3,
   "metadata": {
    "collapsed": true
   },
   "outputs": [],
   "source": [
    "#strip whitespace from the bet_type column and then remove the asian handicap bets\n",
    "def remove_whitespace(entry):\n",
    "    return entry.strip(' ')\n",
    "\n",
    "#convert odds to probabilities remove the overound and create own overound\n",
    "def odds_to_probs(odds):\n",
    "    return 1.0 / odds\n",
    "\n",
    "#function to calculate expected goals from the probabilities and the handicap value\n",
    "from scipy.optimize import minimize_scalar\n",
    "import math\n",
    "import numpy as np\n",
    "from scipy.stats import distributions\n",
    "\n",
    "#make functions\n",
    "def expected_goal_num(num, probability):\n",
    "    'Takes the under number and probability from bookies prices and calculates expected number of goals'\n",
    "    num = int(num - 0.5)\n",
    "    def func_to_min(x):\n",
    "        return (distributions.poisson.cdf(num, x) - probability)**2\n",
    "    return minimize_scalar(func_to_min, method='Golden')['x']\n",
    "\n",
    "#find discrepancies between betting lines and create new dataframe with discrepancy information\n",
    "def get_discrepancies(df):\n",
    "    discrepancies = []\n",
    "    for home_team in df['home_team'].unique():\n",
    "        for away_team in df['away_team'].unique():\n",
    "            game_series = df[(df['home_team'] ==  home_team) & (df['away_team'] ==  away_team)]\n",
    "            for i in game_series['goals_under_mod']:\n",
    "                prob2_mod = float(game_series.loc[game_series['goals_under_mod'] ==  i].prob2_mod)\n",
    "                handicap_under = float(game_series.loc[game_series['goals_under_mod'] == i].handicap)\n",
    "                home_goals = game_series.home_full_time_goals.values[0]\n",
    "                away_goals = game_series.away_full_time_goals.values[0]\n",
    "                for j in game_series['goals_over_mod']:\n",
    "                    prob1_mod = float(game_series.loc[game_series['goals_over_mod'] ==  j].prob1_mod)\n",
    "                    handicap_over = float(game_series.loc[game_series['goals_over_mod'] == j].handicap)\n",
    "                    if i > j:\n",
    "                        discrepancies.append([home_team.strip(' '), away_team.strip(' '),\n",
    "                                              home_goals, away_goals,\n",
    "                                              handicap_under, handicap_over, \n",
    "                                              i, j, prob2_mod, prob1_mod])\n",
    "    return pd.DataFrame(discrepancies, columns=['home_team', 'away_team', 'home_goals', 'away_goals', 'handicap_under', 'handicap_over','expected_goals_under',\n",
    "                                               'expected_goals_over', 'probability_under', 'probability_over'])\n",
    "\n",
    "#get expected value\n",
    "def get_expected_under(handicap, expected_goals_over, probability_under):\n",
    "    return distributions.poisson.cdf(handicap - 0.5, expected_goals_over) * (1.0 / probability_under) - 1\n",
    "\n",
    "def get_expected_over(handicap, expected_goals_under, probability_over):\n",
    "    return (1 - distributions.poisson.cdf(handicap - 0.5, expected_goals_under)) * (1.0 / probability_over) - 1\n",
    "\n",
    "#get winnings per stake\n",
    "def get_winnings(stake, price, win_col):\n",
    "    return stake*((price*win_col) - 1)"
   ]
  },
  {
   "cell_type": "code",
   "execution_count": 96,
   "metadata": {
    "collapsed": false
   },
   "outputs": [],
   "source": [
    "#strip whitespace for the column headers, just keep relevent columns\n",
    "data.columns = [i.strip(' ') for i in data.columns]\n",
    "\n",
    "to_keep = ['bet_type', 'handicap', 'price1', 'price2', 'price3', 'home_team',\n",
    "          'away_team', 'match_datetime', 'home_full_time_goals', 'away_full_time_goals']\n",
    "\n",
    "#remove white space and remove asian handicap markets\n",
    "df = data[to_keep]\n",
    "df = df.dropna(axis=0, subset=['bet_type'])\n",
    "df['bet_type'] = df.bet_type.apply(remove_whitespace)\n",
    "df = df[df.bet_type != 'AH']\n",
    "\n",
    "#calculate overound - remove it and add my own \n",
    "df['overound'] = df.price1.apply(odds_to_probs) + df.price2.apply(odds_to_probs)\n",
    "df['prob1'] = df.price1.apply(odds_to_probs)\n",
    "df['prob2'] = df.price2.apply(odds_to_probs)\n",
    "df['prob1_mod'] = (df['prob1'] / df['overound']) * 1.025\n",
    "df['prob2_mod'] = (df['prob2'] / df['overound']) * 1.025"
   ]
  },
  {
   "cell_type": "code",
   "execution_count": 97,
   "metadata": {
    "collapsed": false
   },
   "outputs": [
    {
     "name": "stderr",
     "output_type": "stream",
     "text": [
      "/home/jmckenzie/anaconda3/lib/python3.6/site-packages/pandas/core/indexing.py:297: SettingWithCopyWarning: \n",
      "A value is trying to be set on a copy of a slice from a DataFrame.\n",
      "Try using .loc[row_indexer,col_indexer] = value instead\n",
      "\n",
      "See the caveats in the documentation: http://pandas.pydata.org/pandas-docs/stable/indexing.html#indexing-view-versus-copy\n",
      "  self.obj[key] = _infer_fill_value(value)\n",
      "/home/jmckenzie/anaconda3/lib/python3.6/site-packages/pandas/core/indexing.py:477: SettingWithCopyWarning: \n",
      "A value is trying to be set on a copy of a slice from a DataFrame.\n",
      "Try using .loc[row_indexer,col_indexer] = value instead\n",
      "\n",
      "See the caveats in the documentation: http://pandas.pydata.org/pandas-docs/stable/indexing.html#indexing-view-versus-copy\n",
      "  self.obj[item] = s\n"
     ]
    }
   ],
   "source": [
    "#get subset of the dataframe with 1000 rows\n",
    "test_df = df.head(1000)\n",
    "\n",
    "#apply the expected goals calculation over both actual probabiltites and modified probabilities\n",
    "test_df.loc[:, 'expected_goals_over'] = test_df.apply(lambda x:\n",
    "                                                      expected_goal_num(x['handicap'], 1 - x['prob1']), axis=1)\n",
    "test_df.loc[:, 'expected_goals_under'] = test_df.apply(lambda x: \n",
    "                                                       expected_goal_num(x['handicap'], x['prob2']), axis=1)\n",
    "\n",
    "test_df.loc[:, 'goals_over_mod'] = test_df.apply(lambda x: \n",
    "                                                 expected_goal_num(x['handicap'], 1 - x['prob1_mod']), axis=1)\n",
    "test_df.loc[:, 'goals_under_mod'] = test_df.apply(lambda x: \n",
    "                                                  expected_goal_num(x['handicap'], x['prob2_mod']), axis=1)\n",
    "\n",
    "#get discrepancy dataframe\n",
    "discrepancies = get_discrepancies(test_df)"
   ]
  },
  {
   "cell_type": "code",
   "execution_count": 98,
   "metadata": {
    "collapsed": false
   },
   "outputs": [],
   "source": [
    "#get expected value for each over and under bet\n",
    "discrepancies['expected_under_win_per_stake'] = discrepancies.apply(lambda x :\n",
    "                                                             get_expected_under(x['handicap_under'],\n",
    "                                                                               x['expected_goals_over'],\n",
    "                                                                               x['probability_under']),\n",
    "                                                             axis = 1)\n",
    "\n",
    "discrepancies['expected_over_win_per_stake'] = discrepancies.apply(lambda x :\n",
    "                                                             get_expected_over(x['handicap_over'],\n",
    "                                                                               x['expected_goals_under'],\n",
    "                                                                               x['probability_over']),\n",
    "                                                             axis = 1)\n",
    "#get total goals column\n",
    "discrepancies['total_goals'] = discrepancies['home_goals'] + discrepancies['away_goals']\n",
    "discrepancies['stake_under'] = 1.0 / discrepancies['expected_under_win_per_stake']\n",
    "discrepancies['stake_over'] = 1.0 / discrepancies['expected_over_win_per_stake']\n",
    "\n",
    "#get win / lose outcomes\n",
    "discrepancies['win_under'] = discrepancies['handicap_under'] > discrepancies['total_goals']\n",
    "discrepancies['win_over'] = discrepancies['handicap_over'] < discrepancies['total_goals']\n",
    "\n",
    "#convert bools to ints\n",
    "discrepancies['win_under'] = discrepancies['win_under'].astype(int)\n",
    "discrepancies['win_over'] = discrepancies['win_over'].astype(int)\n",
    "\n",
    "#calculate winnings based on stake\n",
    "discrepancies['under_winnings'] = discrepancies.apply(lambda x: get_winnings(x['stake_under'], \n",
    "                                                                            1 / x['probability_under'],\n",
    "                                                                            x['win_under']), axis = 1)\n",
    "\n",
    "discrepancies['over_winnings'] = discrepancies.apply(lambda x: get_winnings(x['stake_over'], \n",
    "                                                                            1 / x['probability_over'],\n",
    "                                                                            x['win_over']), axis = 1)\n",
    "discrepancies['winnings'] = discrepancies['under_winnings'] + discrepancies['over_winnings']\n",
    "discrepancies['total_stake'] = discrepancies['stake_under'] + discrepancies['stake_over']"
   ]
  },
  {
   "cell_type": "code",
   "execution_count": 100,
   "metadata": {
    "collapsed": false
   },
   "outputs": [
    {
     "data": {
      "text/plain": [
       "(83, 21)"
      ]
     },
     "execution_count": 100,
     "metadata": {},
     "output_type": "execute_result"
    }
   ],
   "source": [
    "discrepancies.shape"
   ]
  },
  {
   "cell_type": "code",
   "execution_count": 63,
   "metadata": {
    "collapsed": false
   },
   "outputs": [],
   "source": [
    "def apply_filters(dataframe, remove_handicaps = [], expected_goal_diff = 0):\n",
    "    \"\"\"parameters:-\n",
    "    \n",
    "                remove_handicaps = list of handicaps to remove\n",
    "                expected_goal_diff = float\"\"\"\n",
    "    \n",
    "    dataframe = dataframe.loc[(~dataframe.handicap_under.isin(remove_handicaps)) & \n",
    "                             (~dataframe.handicap_over.isin(remove_handicaps))]\n",
    "    \n",
    "    dataframe = dataframe[abs(dataframe['expected_goals_under'] - \n",
    "                              dataframe['expected_goals_over']) > expected_goal_diff]\n",
    "    \n",
    "    dataframe['rolling_sum'] = dataframe['winnings'].cumsum()\n",
    "    return dataframe"
   ]
  },
  {
   "cell_type": "code",
   "execution_count": 94,
   "metadata": {
    "collapsed": false
   },
   "outputs": [
    {
     "data": {
      "text/plain": [
       "<matplotlib.text.Text at 0x7fd15e7a5c88>"
      ]
     },
     "execution_count": 94,
     "metadata": {},
     "output_type": "execute_result"
    },
    {
     "data": {
      "image/png": "[encoded data removed]",
      "text/plain": [
       "<matplotlib.figure.Figure at 0x7fd15e79b1d0>"
      ]
     },
     "metadata": {},
     "output_type": "display_data"
    }
   ],
   "source": [
    "import matplotlib.pyplot as plt\n",
    "%matplotlib inline\n",
    "\n",
    "dataframe = apply_filters(discrepancies, remove_handicaps=[], expected_goal_diff= 0)\n",
    "dataframe.reset_index(inplace=True)\n",
    "\n",
    "dataframe['ROI'] = (dataframe['under_winnings'] / dataframe['stake_under']) + (dataframe['over_winnings'] / dataframe['stake_over'])    \n",
    "\n",
    "ax = dataframe.rolling_sum.plot(title= 'Final Value = %d , total ROI = %10fd'\n",
    "                                % (dataframe.tail(1).rolling_sum.values[0], dataframe.winnings.sum() /  dataframe.total_stake.sum()))\n",
    "ax.set_xlabel('Number of Games')\n",
    "ax.set_ylabel('Return', rotation = 'horizontal', labelpad= 20)"
   ]
  },
  {
   "cell_type": "code",
   "execution_count": 95,
   "metadata": {
    "collapsed": false
   },
   "outputs": [
    {
     "data": {
      "text/plain": [
       "(2224, 21)"
      ]
     },
     "execution_count": 95,
     "metadata": {},
     "output_type": "execute_result"
    }
   ],
   "source": [
    "discrepancies.shape"
   ]
  },
  {
   "cell_type": "code",
   "execution_count": null,
   "metadata": {
    "collapsed": true
   },
   "outputs": [],
   "source": []
  }
 ],
 "metadata": {
  "kernelspec": {
   "display_name": "Python 3",
   "language": "python",
   "name": "python3"
  },
  "language_info": {
   "codemirror_mode": {
    "name": "ipython",
    "version": 3
   },
   "file_extension": ".py",
   "mimetype": "text/x-python",
   "name": "python",
   "nbconvert_exporter": "python",
   "pygments_lexer": "ipython3",
   "version": "3.6.0"
  }
 },
 "nbformat": 4,
 "nbformat_minor": 2
}
