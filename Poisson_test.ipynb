{
 "cells": [
  {
   "cell_type": "code",
   "execution_count": 113,
   "metadata": {
    "collapsed": true
   },
   "outputs": [],
   "source": [
    "import pandas as pd"
   ]
  },
  {
   "cell_type": "code",
   "execution_count": 114,
   "metadata": {
    "collapsed": false
   },
   "outputs": [
    {
     "name": "stderr",
     "output_type": "stream",
     "text": [
      "/home/jmckenzie/anaconda3/lib/python3.6/site-packages/IPython/core/interactiveshell.py:2717: DtypeWarning: Columns (19,20,21,22) have mixed types. Specify dtype option on import or set low_memory=False.\n",
      "  interactivity=interactivity, compiler=compiler, result=result)\n"
     ]
    }
   ],
   "source": [
    "data = pd.read_csv('test.csv', sep='|')"
   ]
  },
  {
   "cell_type": "code",
   "execution_count": 115,
   "metadata": {
    "collapsed": false
   },
   "outputs": [],
   "source": [
    "#strip whitespace for the column headers\n",
    "data.columns = [i.strip(' ') for i in data.columns]"
   ]
  },
  {
   "cell_type": "code",
   "execution_count": 116,
   "metadata": {
    "collapsed": false
   },
   "outputs": [],
   "source": [
    "to_keep = ['bet_type', 'period', 'quote_time', 'handicap', 'bookie', 'price1', 'price2', 'price3', 'home_team',\n",
    "          'away_team', 'match_datetime', 'home_full_time_goals', 'away_full_time_goals']"
   ]
  },
  {
   "cell_type": "code",
   "execution_count": 117,
   "metadata": {
    "collapsed": false
   },
   "outputs": [],
   "source": [
    "df = data[to_keep]\n",
    "df = df.dropna(axis=0, subset=['bet_type'])"
   ]
  },
  {
   "cell_type": "code",
   "execution_count": 118,
   "metadata": {
    "collapsed": false
   },
   "outputs": [],
   "source": [
    "#strip whitespace from the bet_type column and then remove the asian handicap bets\n",
    "def remove_whitespace(entry):\n",
    "    return entry.strip(' ')\n",
    "\n",
    "df['bet_type'] = df.bet_type.apply(remove_whitespace)\n",
    "df = df[df.bet_type != 'AH']"
   ]
  },
  {
   "cell_type": "code",
   "execution_count": 123,
   "metadata": {
    "collapsed": false
   },
   "outputs": [],
   "source": [
    "def odds_to_probs(odds):\n",
    "    return 1.0 / odds"
   ]
  },
  {
   "cell_type": "code",
   "execution_count": 127,
   "metadata": {
    "collapsed": false
   },
   "outputs": [],
   "source": [
    "df['overound'] = df.price1.apply(odds_to_probs) + df.price2.apply(odds_to_probs)\n",
    "df['prob1'] = df.price1.apply(odds_to_probs)\n",
    "df['prob2'] = df.price2.apply(odds_to_probs)\n",
    "\n",
    "df['implied_1'] = df.prob1 / df.overound\n",
    "df['implied_2'] = df.prob2 / df.overound"
   ]
  },
  {
   "cell_type": "code",
   "execution_count": 131,
   "metadata": {
    "collapsed": false
   },
   "outputs": [
    {
     "data": {
      "text/html": [
       "<div>\n",
       "<table border=\"1\" class=\"dataframe\">\n",
       "  <thead>\n",
       "    <tr style=\"text-align: right;\">\n",
       "      <th></th>\n",
       "      <th>bet_type</th>\n",
       "      <th>period</th>\n",
       "      <th>quote_time</th>\n",
       "      <th>handicap</th>\n",
       "      <th>bookie</th>\n",
       "      <th>price1</th>\n",
       "      <th>price2</th>\n",
       "      <th>price3</th>\n",
       "      <th>home_team</th>\n",
       "      <th>away_team</th>\n",
       "      <th>match_datetime</th>\n",
       "      <th>home_full_time_goals</th>\n",
       "      <th>away_full_time_goals</th>\n",
       "      <th>overound</th>\n",
       "      <th>prob1</th>\n",
       "      <th>prob2</th>\n",
       "      <th>implied_1</th>\n",
       "      <th>implied_2</th>\n",
       "    </tr>\n",
       "  </thead>\n",
       "  <tbody>\n",
       "    <tr>\n",
       "      <th>16</th>\n",
       "      <td>OU</td>\n",
       "      <td>FT</td>\n",
       "      <td>C</td>\n",
       "      <td>0.5</td>\n",
       "      <td>bet365</td>\n",
       "      <td>1.03</td>\n",
       "      <td>15.0</td>\n",
       "      <td></td>\n",
       "      <td>Sarpsborg 08</td>\n",
       "      <td>Sandnes</td>\n",
       "      <td>2014-05-04 14:30:00+01</td>\n",
       "      <td>2</td>\n",
       "      <td>1</td>\n",
       "      <td>1.037540</td>\n",
       "      <td>0.970874</td>\n",
       "      <td>0.066667</td>\n",
       "      <td>0.935745</td>\n",
       "      <td>0.064255</td>\n",
       "    </tr>\n",
       "    <tr>\n",
       "      <th>17</th>\n",
       "      <td>OU</td>\n",
       "      <td>FT</td>\n",
       "      <td>C</td>\n",
       "      <td>1.5</td>\n",
       "      <td>bet365</td>\n",
       "      <td>1.18</td>\n",
       "      <td>4.5</td>\n",
       "      <td></td>\n",
       "      <td>Sarpsborg 08</td>\n",
       "      <td>Sandnes</td>\n",
       "      <td>2014-05-04 14:30:00+01</td>\n",
       "      <td>2</td>\n",
       "      <td>1</td>\n",
       "      <td>1.069680</td>\n",
       "      <td>0.847458</td>\n",
       "      <td>0.222222</td>\n",
       "      <td>0.792254</td>\n",
       "      <td>0.207746</td>\n",
       "    </tr>\n",
       "    <tr>\n",
       "      <th>18</th>\n",
       "      <td>OU</td>\n",
       "      <td>FT</td>\n",
       "      <td>C</td>\n",
       "      <td>2.5</td>\n",
       "      <td>bet365</td>\n",
       "      <td>1.60</td>\n",
       "      <td>2.3</td>\n",
       "      <td></td>\n",
       "      <td>Sarpsborg 08</td>\n",
       "      <td>Sandnes</td>\n",
       "      <td>2014-05-04 14:30:00+01</td>\n",
       "      <td>2</td>\n",
       "      <td>1</td>\n",
       "      <td>1.059783</td>\n",
       "      <td>0.625000</td>\n",
       "      <td>0.434783</td>\n",
       "      <td>0.589744</td>\n",
       "      <td>0.410256</td>\n",
       "    </tr>\n",
       "    <tr>\n",
       "      <th>19</th>\n",
       "      <td>OU</td>\n",
       "      <td>FT</td>\n",
       "      <td>C</td>\n",
       "      <td>3.5</td>\n",
       "      <td>bet365</td>\n",
       "      <td>2.50</td>\n",
       "      <td>1.5</td>\n",
       "      <td></td>\n",
       "      <td>Sarpsborg 08</td>\n",
       "      <td>Sandnes</td>\n",
       "      <td>2014-05-04 14:30:00+01</td>\n",
       "      <td>2</td>\n",
       "      <td>1</td>\n",
       "      <td>1.066667</td>\n",
       "      <td>0.400000</td>\n",
       "      <td>0.666667</td>\n",
       "      <td>0.375000</td>\n",
       "      <td>0.625000</td>\n",
       "    </tr>\n",
       "    <tr>\n",
       "      <th>20</th>\n",
       "      <td>OU</td>\n",
       "      <td>FT</td>\n",
       "      <td>C</td>\n",
       "      <td>4.5</td>\n",
       "      <td>bet365</td>\n",
       "      <td>4.33</td>\n",
       "      <td>1.2</td>\n",
       "      <td></td>\n",
       "      <td>Sarpsborg 08</td>\n",
       "      <td>Sandnes</td>\n",
       "      <td>2014-05-04 14:30:00+01</td>\n",
       "      <td>2</td>\n",
       "      <td>1</td>\n",
       "      <td>1.064280</td>\n",
       "      <td>0.230947</td>\n",
       "      <td>0.833333</td>\n",
       "      <td>0.216998</td>\n",
       "      <td>0.783002</td>\n",
       "    </tr>\n",
       "  </tbody>\n",
       "</table>\n",
       "</div>"
      ],
      "text/plain": [
       "   bet_type    period    quote_time  handicap    bookie  price1  price2  \\\n",
       "16       OU   FT        C                 0.5   bet365     1.03    15.0   \n",
       "17       OU   FT        C                 1.5   bet365     1.18     4.5   \n",
       "18       OU   FT        C                 2.5   bet365     1.60     2.3   \n",
       "19       OU   FT        C                 3.5   bet365     2.50     1.5   \n",
       "20       OU   FT        C                 4.5   bet365     4.33     1.2   \n",
       "\n",
       "       price3                           home_team  \\\n",
       "16              Sarpsborg 08                        \n",
       "17              Sarpsborg 08                        \n",
       "18              Sarpsborg 08                        \n",
       "19              Sarpsborg 08                        \n",
       "20              Sarpsborg 08                        \n",
       "\n",
       "                             away_team            match_datetime  \\\n",
       "16   Sandnes                             2014-05-04 14:30:00+01    \n",
       "17   Sandnes                             2014-05-04 14:30:00+01    \n",
       "18   Sandnes                             2014-05-04 14:30:00+01    \n",
       "19   Sandnes                             2014-05-04 14:30:00+01    \n",
       "20   Sandnes                             2014-05-04 14:30:00+01    \n",
       "\n",
       "   home_full_time_goals away_full_time_goals  overound     prob1     prob2  \\\n",
       "16                    2                    1  1.037540  0.970874  0.066667   \n",
       "17                    2                    1  1.069680  0.847458  0.222222   \n",
       "18                    2                    1  1.059783  0.625000  0.434783   \n",
       "19                    2                    1  1.066667  0.400000  0.666667   \n",
       "20                    2                    1  1.064280  0.230947  0.833333   \n",
       "\n",
       "    implied_1  implied_2  \n",
       "16   0.935745   0.064255  \n",
       "17   0.792254   0.207746  \n",
       "18   0.589744   0.410256  \n",
       "19   0.375000   0.625000  \n",
       "20   0.216998   0.783002  "
      ]
     },
     "execution_count": 131,
     "metadata": {},
     "output_type": "execute_result"
    }
   ],
   "source": [
    "df.head()"
   ]
  },
  {
   "cell_type": "code",
   "execution_count": 134,
   "metadata": {
    "collapsed": true
   },
   "outputs": [],
   "source": [
    "import math"
   ]
  },
  {
   "cell_type": "code",
   "execution_count": 136,
   "metadata": {
    "collapsed": false
   },
   "outputs": [
    {
     "name": "stdout",
     "output_type": "stream",
     "text": [
      "2.659260036932778\n"
     ]
    }
   ],
   "source": [
    "x = math.log(0.07) * -1\n",
    "print(x)"
   ]
  },
  {
   "cell_type": "code",
   "execution_count": 141,
   "metadata": {
    "collapsed": false
   },
   "outputs": [
    {
     "name": "stdout",
     "output_type": "stream",
     "text": [
      "3.506557897319981\n"
     ]
    }
   ],
   "source": [
    "x = -math.log(1 - 0.97)\n",
    "print(x)"
   ]
  },
  {
   "cell_type": "code",
   "execution_count": 142,
   "metadata": {
    "collapsed": true
   },
   "outputs": [],
   "source": [
    "from statsmodels.discrete.discrete_model import Poisson"
   ]
  },
  {
   "cell_type": "code",
   "execution_count": null,
   "metadata": {
    "collapsed": true
   },
   "outputs": [],
   "source": []
  },
  {
   "cell_type": "code",
   "execution_count": null,
   "metadata": {
    "collapsed": true
   },
   "outputs": [],
   "source": []
  }
 ],
 "metadata": {
  "kernelspec": {
   "display_name": "Python 3",
   "language": "python",
   "name": "python3"
  },
  "language_info": {
   "codemirror_mode": {
    "name": "ipython",
    "version": 3
   },
   "file_extension": ".py",
   "mimetype": "text/x-python",
   "name": "python",
   "nbconvert_exporter": "python",
   "pygments_lexer": "ipython3",
   "version": "3.6.0"
  }
 },
 "nbformat": 4,
 "nbformat_minor": 2
}
